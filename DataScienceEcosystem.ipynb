{
 "cells": [
  {
   "cell_type": "markdown",
   "id": "015b5812-8407-4cae-890b-83b191a94425",
   "metadata": {},
   "source": [
    "# Data Science Tools and Ecosystem "
   ]
  },
  {
   "cell_type": "markdown",
   "id": "2b24ac97-055c-4775-a01a-285b9f7463ce",
   "metadata": {},
   "source": [
    "<p>In this notebook, Data Science Tools and Ecosystem are summarized.<p/>"
   ]
  },
  {
   "cell_type": "markdown",
   "id": "e131d920-019f-42b9-9b53-5f841b15d98a",
   "metadata": {},
   "source": [
    "<b> Objectives: </b>\n",
    "<ul>\n",
    "    <li> List popular languages for Data Science </li>\n",
    "    <li> List some libraries used by Data Scientist </li>\n",
    "    <li> List some Data Science tools </li>\n",
    "    <li> Evaluate arithmetic expressions </li>\n",
    "    </ul>"
   ]
  },
  {
   "cell_type": "markdown",
   "id": "419942ae-f614-471e-ac36-23287e090004",
   "metadata": {},
   "source": [
    "<p>Some of the popular languages that Data Scientists use are:\n",
    "<ol>\n",
    "<li>Python</li>\n",
    "<li>R</li>\n",
    "<li>Scala</li>\n",
    "</ol>\n",
    "</p>"
   ]
  },
  {
   "cell_type": "markdown",
   "id": "ad314c4a-53da-4aa2-9186-ed3c23c5eb74",
   "metadata": {},
   "source": [
    "<p>Some of the commonly used libraries used by Data Scientists include:\n",
    "<ol>\n",
    "<li>Pandas</li>\n",
    "<li>Matplotlib</li>\n",
    "<li>Numpy</li>\n",
    "    <li>Keras</li>\n",
    "<li>Pytorch</li>\n",
    "</ol>\n",
    "</p>"
   ]
  },
  {
   "cell_type": "markdown",
   "id": "e54b253b-86b8-4383-b567-59c0d91092e7",
   "metadata": {},
   "source": [
    "<table>\n",
    "<thead>\n",
    "    <tr><th>Data Science Tools</th></tr>\n",
    "</thead>\n",
    "<tr><td>Anaconda</td></tr>\n",
    "<tr><td>Jupyter Notebooks </td></tr>\n",
    "<tr><td>Visual Studio Code</td></tr>\n",
    "</table>"
   ]
  },
  {
   "cell_type": "markdown",
   "id": "bcb01caa-06b0-4c2c-9499-80236153c7bd",
   "metadata": {},
   "source": [
    "### Below are a few examples of evaluating arithmetic expressions in Python"
   ]
  },
  {
   "cell_type": "code",
   "execution_count": 4,
   "id": "ed059b13-4068-46de-aff3-64e83b36113b",
   "metadata": {},
   "outputs": [
    {
     "data": {
      "text/plain": [
       "17"
      ]
     },
     "execution_count": 4,
     "metadata": {},
     "output_type": "execute_result"
    }
   ],
   "source": [
    "(3*4)+5\n",
    "\n",
    "#This a simple arithmetic expression to mutiply then add integers."
   ]
  },
  {
   "cell_type": "code",
   "execution_count": 6,
   "id": "3664ca2d-31dc-40eb-beb8-98f1c89baa38",
   "metadata": {},
   "outputs": [
    {
     "data": {
      "text/plain": [
       "3.3333333333333335"
      ]
     },
     "execution_count": 6,
     "metadata": {},
     "output_type": "execute_result"
    }
   ],
   "source": [
    "Minutes=200\n",
    "Hours=Minutes/60\n",
    "Hours\n",
    "#This will convert 200 minutes to hours by diving by 60"
   ]
  },
  {
   "cell_type": "markdown",
   "id": "7eff6d33-dbf6-443f-8b9c-b25706621657",
   "metadata": {},
   "source": [
    "## Author\n",
    "<p> Kanika Choudhary </p>"
   ]
  },
  {
   "cell_type": "code",
   "execution_count": null,
   "id": "60a01584-fdf8-4f4b-9e8a-0d48b96a1863",
   "metadata": {},
   "outputs": [],
   "source": []
  }
 ],
 "metadata": {
  "kernelspec": {
   "display_name": "Python 3 (ipykernel)",
   "language": "python",
   "name": "python3"
  },
  "language_info": {
   "codemirror_mode": {
    "name": "ipython",
    "version": 3
   },
   "file_extension": ".py",
   "mimetype": "text/x-python",
   "name": "python",
   "nbconvert_exporter": "python",
   "pygments_lexer": "ipython3",
   "version": "3.11.5"
  }
 },
 "nbformat": 4,
 "nbformat_minor": 5
}
